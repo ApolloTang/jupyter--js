{
 "cells": [
  {
   "cell_type": "markdown",
   "metadata": {},
   "source": [
    "Console.table does not work in node, but you can use npm [not-a-log](https://www.npmjs.com/package/not-a-log) \n",
    "\n",
    "Reference: https://stackoverflow.com/a/67859384/3136861"
   ]
  },
  {
   "cell_type": "code",
   "execution_count": 1,
   "metadata": {},
   "outputs": [
    {
     "name": "stdout",
     "output_type": "stream",
     "text": [
      "┌─────────┬────────┐\n",
      "│ (index) │ Values │\n",
      "├─────────┼────────┤\n",
      "│    0    │ 'sdf'  │\n",
      "│    1    │ 'dsfa' │\n",
      "└─────────┴────────┘\n",
      "\n",
      "┌─────────┬────────┐\n",
      "│ (index) │ Values │\n",
      "├─────────┼────────┤\n",
      "│    0    │ 'sdf'  │\n",
      "│    1    │ 'dsfa' │\n",
      "└─────────┴────────┘\n",
      "\n"
     ]
    }
   ],
   "source": [
    "require(\"esm-hook\");\n",
    "const notALog = require(\"not-a-log\").default;\n",
    "\n",
    "const str = notALog.table(['sdf', 'dsfa'])\n",
    "console.log(str)\n",
    "console.log(str)\n"
   ]
  },
  {
   "cell_type": "markdown",
   "metadata": {},
   "source": [
    "## Not reliable in vsCode (but in github is fine)\n",
    "\n",
    "Below is an example of not-a-table used in promise. In VSCode it does not format table and some `console.log` is repeated; However, in github the rendering is fine:"
   ]
  },
  {
   "cell_type": "code",
   "execution_count": 1,
   "metadata": {},
   "outputs": [
    {
     "name": "stdout",
     "output_type": "stream",
     "text": [
      "Promise { <pending> }\n"
     ]
    },
    {
     "name": "stdout",
     "output_type": "stream",
     "text": [
      "{\n",
      "  by: 'dhouston',\n",
      "  descendants: 71,\n",
      "  id: 8863,\n",
      "  kids: [\n",
      "    9224, 8917, 8952,  8958, 8884,\n",
      "    8887, 8869, 8873,  8940, 8908,\n",
      "    9005, 9671, 9067,  9055, 8865,\n",
      "    8881, 8872, 8955, 10403, 8903,\n",
      "    8928, 9125, 8998,  8901, 8902,\n",
      "    8907, 8894, 8870,  8878, 8980,\n",
      "    8934, 8943, 8876\n",
      "  ],\n",
      "  score: 104,\n",
      "  time: 1175714200,\n",
      "  title: 'My YC app: Dropbox - Throw away your USB drive',\n",
      "  type: 'story',\n",
      "  url: 'http://www.getdropbox.com/u/2/screencast.html'\n",
      "}\n",
      "┌─────────┬────────┐\n",
      "│ (index) │ Values │\n",
      "├─────────┼────────┤\n",
      "│    0    │ 'sdf'  │\n",
      "│    1    │ 'dsfa' │\n",
      "└─────────┴────────┘\n",
      "\n"
     ]
    }
   ],
   "source": [
    "require(\"esm-hook\");\n",
    "const notALog = require(\"not-a-log\").default;\n",
    "const fetch = require(\"node-fetch\").default;\n",
    "\n",
    "fetch(\"https://hacker-news.firebaseio.com/v0/item/8863.json?print=pretty\")\n",
    "  .then(req => req.json())\n",
    "  .then(json => {\n",
    "    console.log(json)\n",
    "    const str = notALog.table(['sdf', 'dsfa'])\n",
    "    console.log(str)\n",
    "  })\n",
    "  .catch(console.error);"
   ]
  },
  {
   "cell_type": "markdown",
   "metadata": {},
   "source": [
    "But then the following is fine: "
   ]
  },
  {
   "cell_type": "code",
   "execution_count": 2,
   "metadata": {},
   "outputs": [
    {
     "name": "stdout",
     "output_type": "stream",
     "text": [
      "Promise { <pending> }\n",
      "resolved\n",
      "┌─────────┬────────┐\n",
      "│ (index) │ Values │\n",
      "├─────────┼────────┤\n",
      "│    0    │ 'sdf'  │\n",
      "│    1    │ 'dsfa' │\n",
      "└─────────┴────────┘\n",
      "\n",
      "┌─────────┬────────┐\n",
      "│ (index) │ Values │\n",
      "├─────────┼────────┤\n",
      "│    0    │ 'sdf'  │\n",
      "│    1    │ 'dsfa' │\n",
      "└─────────┴────────┘\n",
      "\n"
     ]
    }
   ],
   "source": [
    "require(\"esm-hook\");\n",
    "const notALog = require(\"not-a-log\").default;\n",
    "\n",
    "Promise.resolve().then(()=>{\n",
    "    console.log('resolved')\n",
    "    const str = notALog.table(['sdf', 'dsfa'])\n",
    "    console.log(str)\n",
    "    console.log(str)\n",
    "})"
   ]
  }
 ],
 "metadata": {
  "kernelspec": {
   "display_name": "JavaScript",
   "language": "javascript",
   "name": "jslab"
  },
  "language_info": {
   "file_extension": ".js",
   "mimetype": "text/javascript",
   "name": "javascript",
   "version": ""
  },
  "orig_nbformat": 4,
  "vscode": {
   "interpreter": {
    "hash": "790045c620c71c82e90ca3055e3e1d4d1df10879aa6d1ee4e80b530f3acf8975"
   }
  }
 },
 "nbformat": 4,
 "nbformat_minor": 2
}
