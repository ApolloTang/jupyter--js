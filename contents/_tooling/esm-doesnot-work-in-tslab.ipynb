{
 "cells": [
  {
   "cell_type": "markdown",
   "metadata": {},
   "source": [
    "# ESM does not work in tslab\n",
    "\n",
    "github issue:\n",
    "\n",
    "https://github.com/yunabe/tslab/issues/72#issuecomment-1541262673\n",
    "\n",
    "work arround:\n",
    "\n",
    "Use [esm-hook](https://www.npmjs.com/package/esm-hook)\n",
    "\n",
    "Ref: https://github.com/n-riesco/ijavascript/issues/210#issuecomment-1458474048\n",
    "\n",
    "\n",
    "\n"
   ]
  },
  {
   "cell_type": "code",
   "execution_count": 1,
   "metadata": {},
   "outputs": [
    {
     "name": "stdout",
     "output_type": "stream",
     "text": [
      "Promise { <pending> }\n"
     ]
    },
    {
     "name": "stdout",
     "output_type": "stream",
     "text": [
      "{\n",
      "  by: 'dhouston',\n",
      "  descendants: 71,\n",
      "  id: 8863,\n",
      "  kids: [\n",
      "    9224, 8917, 8952,  8958, 8884,\n",
      "    8887, 8869, 8873,  8940, 8908,\n",
      "    9005, 9671, 9067,  9055, 8865,\n",
      "    8881, 8872, 8955, 10403, 8903,\n",
      "    8928, 9125, 8998,  8901, 8902,\n",
      "    8907, 8894, 8870,  8878, 8980,\n",
      "    8934, 8943, 8876\n",
      "  ],\n",
      "  score: 104,\n",
      "  time: 1175714200,\n",
      "  title: 'My YC app: Dropbox - Throw away your USB drive',\n",
      "  type: 'story',\n",
      "  url: 'http://www.getdropbox.com/u/2/screencast.html'\n",
      "}\n"
     ]
    }
   ],
   "source": [
    "require(\"esm-hook\");\n",
    "const fetch = require(\"node-fetch\").default;\n",
    "fetch(\"https://hacker-news.firebaseio.com/v0/item/8863.json?print=pretty\")\n",
    "  .then(req => req.json())\n",
    "  .then(json => console.log(json))\n",
    "  .catch(console.error);"
   ]
  }
 ],
 "metadata": {
  "kernelspec": {
   "display_name": "JavaScript",
   "language": "javascript",
   "name": "jslab"
  },
  "language_info": {
   "file_extension": ".js",
   "mimetype": "text/javascript",
   "name": "javascript",
   "version": ""
  },
  "orig_nbformat": 4,
  "vscode": {
   "interpreter": {
    "hash": "790045c620c71c82e90ca3055e3e1d4d1df10879aa6d1ee4e80b530f3acf8975"
   }
  }
 },
 "nbformat": 4,
 "nbformat_minor": 2
}
