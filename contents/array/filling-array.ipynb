{
 "cells": [
  {
   "cell_type": "markdown",
   "metadata": {},
   "source": [
    "# How to create prefilled array (with undefined as value of element)"
   ]
  },
  {
   "cell_type": "code",
   "execution_count": 1,
   "metadata": {},
   "outputs": [
    {
     "name": "stdout",
     "output_type": "stream",
     "text": [
      "[ undefined, undefined, undefined, undefined, undefined ]\n"
     ]
    }
   ],
   "source": [
    "{\n",
    "    const a = Array(5).fill(undefined)\n",
    "    console.log(a)\n",
    "}"
   ]
  },
  {
   "cell_type": "code",
   "execution_count": 2,
   "metadata": {},
   "outputs": [
    {
     "name": "stdout",
     "output_type": "stream",
     "text": [
      "[ undefined, undefined, undefined, undefined, undefined ]\n"
     ]
    }
   ],
   "source": [
    "{\n",
    "    const a = [...Array(5)]\n",
    "    console.log(a)\n",
    "}"
   ]
  },
  {
   "cell_type": "code",
   "execution_count": 3,
   "metadata": {},
   "outputs": [
    {
     "name": "stdout",
     "output_type": "stream",
     "text": [
      "[ undefined, undefined, undefined, undefined, undefined ]\n"
     ]
    }
   ],
   "source": [
    "{\n",
    "    const a = Array.apply(null, {length: 5})\n",
    "    console.log(a)\n",
    "}"
   ]
  },
  {
   "cell_type": "code",
   "execution_count": 5,
   "metadata": {},
   "outputs": [
    {
     "name": "stdout",
     "output_type": "stream",
     "text": [
      "[ undefined, undefined, undefined, undefined, undefined ]\n"
     ]
    }
   ],
   "source": [
    "{\n",
    "    const a = Array.from({length: 5}, v=>v)\n",
    "    console.log(a)\n",
    "}"
   ]
  },
  {
   "cell_type": "markdown",
   "metadata": {},
   "source": [
    "Array.from reference: \n",
    "- [5 Handy Applications of JavaScript Array.from() by Dmitri Pavlutin](https://dmitripavlutin.com/javascript-array-from-applications/)\n",
    "- [MDN](https://developer.mozilla.org/en-US/docs/Web/JavaScript/Reference/Global_Objects/Array/from)"
   ]
  },
  {
   "cell_type": "markdown",
   "metadata": {},
   "source": []
  }
 ],
 "metadata": {
  "kernelspec": {
   "display_name": "JavaScript",
   "language": "javascript",
   "name": "jslab"
  },
  "language_info": {
   "file_extension": ".js",
   "mimetype": "text/javascript",
   "name": "javascript",
   "version": ""
  },
  "orig_nbformat": 4
 },
 "nbformat": 4,
 "nbformat_minor": 2
}
