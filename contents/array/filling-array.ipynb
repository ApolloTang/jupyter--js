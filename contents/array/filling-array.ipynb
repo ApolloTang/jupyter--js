{
 "cells": [
  {
   "cell_type": "code",
   "execution_count": 5,
   "metadata": {},
   "outputs": [
    {
     "name": "stdout",
     "output_type": "stream",
     "text": [
      "[ undefined, undefined, undefined, undefined, undefined ]\n"
     ]
    }
   ],
   "source": [
    "{\n",
    "    const a = Array(5).fill(undefined)\n",
    "    console.log(a)\n",
    "}"
   ]
  },
  {
   "cell_type": "code",
   "execution_count": 6,
   "metadata": {},
   "outputs": [
    {
     "name": "stdout",
     "output_type": "stream",
     "text": [
      "[ undefined, undefined, undefined, undefined, undefined ]\n"
     ]
    }
   ],
   "source": [
    "{\n",
    "    const a = [...Array(5)]\n",
    "    console.log(a)\n",
    "}"
   ]
  }
 ],
 "metadata": {
  "kernelspec": {
   "display_name": "JavaScript",
   "language": "javascript",
   "name": "jslab"
  },
  "language_info": {
   "file_extension": ".js",
   "mimetype": "text/javascript",
   "name": "javascript",
   "version": ""
  },
  "orig_nbformat": 4
 },
 "nbformat": 4,
 "nbformat_minor": 2
}
