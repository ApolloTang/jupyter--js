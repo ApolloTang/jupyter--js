{
 "cells": [
  {
   "cell_type": "markdown",
   "metadata": {},
   "source": [
    "# Listing properties on protoype chain\n",
    "\n",
    "Ref:\n",
    "\n",
    "https://stackoverflow.com/questions/30158515/list-all-prototype-properties-of-a-javascript-object\n",
    "\n"
   ]
  },
  {
   "cell_type": "code",
   "execution_count": 1,
   "metadata": {},
   "outputs": [
    {
     "name": "stdout",
     "output_type": "stream",
     "text": [
      "[\n",
      "  'length',            'constructor',   'anchor',\n",
      "  'big',               'blink',         'bold',\n",
      "  'charAt',            'charCodeAt',    'codePointAt',\n",
      "  'concat',            'endsWith',      'fontcolor',\n",
      "  'fontsize',          'fixed',         'includes',\n",
      "  'indexOf',           'italics',       'lastIndexOf',\n",
      "  'link',              'localeCompare', 'match',\n",
      "  'matchAll',          'normalize',     'padEnd',\n",
      "  'padStart',          'repeat',        'replace',\n",
      "  'replaceAll',        'search',        'slice',\n",
      "  'small',             'split',         'strike',\n",
      "  'sub',               'substr',        'substring',\n",
      "  'sup',               'startsWith',    'toString',\n",
      "  'trim',              'trimStart',     'trimLeft',\n",
      "  'trimEnd',           'trimRight',     'toLocaleLowerCase',\n",
      "  'toLocaleUpperCase', 'toLowerCase',   'toUpperCase',\n",
      "  'valueOf',           'at'\n",
      "]\n"
     ]
    }
   ],
   "source": [
    "Object.getOwnPropertyNames(Object.getPrototypeOf( 'ssss' ))"
   ]
  },
  {
   "cell_type": "code",
   "execution_count": 2,
   "metadata": {},
   "outputs": [
    {
     "name": "stdout",
     "output_type": "stream",
     "text": [
      "[\n",
      "  'length',            'constructor',   'anchor',\n",
      "  'big',               'blink',         'bold',\n",
      "  'charAt',            'charCodeAt',    'codePointAt',\n",
      "  'concat',            'endsWith',      'fontcolor',\n",
      "  'fontsize',          'fixed',         'includes',\n",
      "  'indexOf',           'italics',       'lastIndexOf',\n",
      "  'link',              'localeCompare', 'match',\n",
      "  'matchAll',          'normalize',     'padEnd',\n",
      "  'padStart',          'repeat',        'replace',\n",
      "  'replaceAll',        'search',        'slice',\n",
      "  'small',             'split',         'strike',\n",
      "  'sub',               'substr',        'substring',\n",
      "  'sup',               'startsWith',    'toString',\n",
      "  'trim',              'trimStart',     'trimLeft',\n",
      "  'trimEnd',           'trimRight',     'toLocaleLowerCase',\n",
      "  'toLocaleUpperCase', 'toLowerCase',   'toUpperCase',\n",
      "  'valueOf',           'at'\n",
      "]\n"
     ]
    }
   ],
   "source": [
    "Object.getOwnPropertyNames(Object.getPrototypeOf( new String('ssss') ))"
   ]
  }
 ],
 "metadata": {
  "kernelspec": {
   "display_name": "JavaScript",
   "language": "javascript",
   "name": "jslab"
  },
  "language_info": {
   "file_extension": ".js",
   "mimetype": "text/javascript",
   "name": "javascript",
   "version": ""
  },
  "orig_nbformat": 4
 },
 "nbformat": 4,
 "nbformat_minor": 2
}
