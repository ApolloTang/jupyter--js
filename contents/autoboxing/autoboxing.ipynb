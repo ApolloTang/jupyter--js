{
 "cells": [
  {
   "cell_type": "markdown",
   "metadata": {},
   "source": [
    "# Autoboxing\n",
    "\n",
    "Ref:\n",
    "\n",
    "https://medium.com/weekly-webtips/autoboxing-in-javascript-a368b42d8969\n",
    "\n",
    "Javascript, like most other language, its primitives has no properties; however, Javascript behave as they do have properties. For example, this is a string:\n",
    "```\n",
    "\"ssss\"\n",
    "```\n",
    "String is a primitive data type and it should not have properties but behaviourally you could do somthing like: "
   ]
  },
  {
   "cell_type": "code",
   "execution_count": 6,
   "metadata": {},
   "outputs": [
    {
     "name": "stdout",
     "output_type": "stream",
     "text": [
      "length of \"ssss\" is: 4\n"
     ]
    }
   ],
   "source": [
    "console.log(`length of \"ssss\" is: ${\"ssss\".length}`)"
   ]
  },
  {
   "cell_type": "markdown",
   "metadata": {},
   "source": [
    "In the above, it appears as you are using the dot syntax to access a property call \"length\". This behaviour is possible because behind the scene, Javascript create an instance of string object using the [String()](https://developer.mozilla.org/en-US/docs/Web/JavaScript/Reference/Global_Objects/String) constructor:"
   ]
  },
  {
   "cell_type": "code",
   "execution_count": 7,
   "metadata": {},
   "outputs": [
    {
     "name": "stdout",
     "output_type": "stream",
     "text": [
      "length of \"ssss\" is: 4\n"
     ]
    }
   ],
   "source": [
    "console.log(`length of \"ssss\" is: ${(new String('ssss')).length}`)"
   ]
  },
  {
   "cell_type": "markdown",
   "metadata": {},
   "source": [
    "In effect the `length` that you accessed when you write `\"ssss\".length` is the `length` own by `(new String('ssss'))`"
   ]
  },
  {
   "cell_type": "code",
   "execution_count": 12,
   "metadata": {},
   "outputs": [],
   "source": [
    "    console.assert((new String('ssss')).length === \"ssss\".length, \"not equal\")"
   ]
  },
  {
   "cell_type": "markdown",
   "metadata": {},
   "source": [
    "This behind the scene \"wrapping\" of string literals using the `String()` constructor is called **auto-boxing** "
   ]
  }
 ],
 "metadata": {
  "kernelspec": {
   "display_name": "JavaScript",
   "language": "javascript",
   "name": "jslab"
  },
  "language_info": {
   "file_extension": ".js",
   "mimetype": "text/javascript",
   "name": "javascript",
   "version": ""
  },
  "orig_nbformat": 4
 },
 "nbformat": 4,
 "nbformat_minor": 2
}
