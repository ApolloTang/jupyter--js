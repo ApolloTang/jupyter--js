{
 "cells": [
  {
   "attachments": {},
   "cell_type": "markdown",
   "metadata": {},
   "source": [
    "# Using bind to associate a method on prototype:"
   ]
  },
  {
   "cell_type": "code",
   "execution_count": null,
   "metadata": {},
   "outputs": [],
   "source": [
    "{\n",
    "    const someArray = [`1`,`2`]\n",
    "    const push_unbound = someArray.push\n",
    "    push_unbound('new_element')\n",
    "//  ^\n",
    "// TypeError: Cannot convert undefined or null to object\n",
    "//    at push (<anonymous>)\n",
    "}"
   ]
  },
  {
   "attachments": {},
   "cell_type": "markdown",
   "metadata": {},
   "source": [
    "Above does not work because the method `push` is not associate to `someArray`. The above is same as calling `Array.prototype.push` in isolation:"
   ]
  },
  {
   "cell_type": "code",
   "execution_count": null,
   "metadata": {},
   "outputs": [],
   "source": [
    "{\n",
    "    const someArray = [`1`,`2`]\n",
    "    const push_unbound = Array.prototype.push\n",
    "    push_unbound('new_element')\n",
    "//  ^\n",
    "// TypeError: Cannot convert undefined or null to object\n",
    "//    at push (<anonymous>)\n",
    "}"
   ]
  },
  {
   "attachments": {},
   "cell_type": "markdown",
   "metadata": {},
   "source": [
    " Using `bind`, we can fix the above by associate the method `Array.prototype.push` to `someArray`:"
   ]
  },
  {
   "cell_type": "code",
   "execution_count": 2,
   "metadata": {},
   "outputs": [
    {
     "name": "stdout",
     "output_type": "stream",
     "text": [
      "[ '1', '2', 'new_element' ]\n"
     ]
    }
   ],
   "source": [
    "{\n",
    "    const someArray = [`1`,`2`]\n",
    "    const push_unbound = Array.prototype.push.bind(someArray)\n",
    "    push_unbound('new_element')\n",
    "    console.log(someArray)\n",
    "}"
   ]
  },
  {
   "attachments": {},
   "cell_type": "markdown",
   "metadata": {},
   "source": [
    "Let's fix our original problem using bind:"
   ]
  },
  {
   "cell_type": "code",
   "execution_count": 3,
   "metadata": {},
   "outputs": [
    {
     "name": "stdout",
     "output_type": "stream",
     "text": [
      "[ '1', '2', 'new_element' ]\n"
     ]
    }
   ],
   "source": [
    "{\n",
    "    const someArray = [`1`,`2`]\n",
    "    const push_unbound = someArray.push.bind(someArray)\n",
    "    push_unbound('new_element')\n",
    "    console.log(someArray)\n",
    "}"
   ]
  },
  {
   "attachments": {},
   "cell_type": "markdown",
   "metadata": {},
   "source": [
    "## Ref:\n",
    "[quick question: what is the purpose of bind() in tracks.push.bind(tracks)](https://github.com/kentcdodds/how-jest-mocking-works/issues/1)"
   ]
  },
  {
   "cell_type": "markdown",
   "metadata": {},
   "source": []
  }
 ],
 "metadata": {
  "kernelspec": {
   "display_name": "JavaScript",
   "language": "javascript",
   "name": "jslab"
  },
  "language_info": {
   "file_extension": ".js",
   "mimetype": "text/javascript",
   "name": "javascript",
   "version": ""
  },
  "orig_nbformat": 4
 },
 "nbformat": 4,
 "nbformat_minor": 2
}
