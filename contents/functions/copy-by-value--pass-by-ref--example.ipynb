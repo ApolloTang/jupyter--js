{
 "cells": [
  {
   "cell_type": "markdown",
   "id": "2e08fb1f-2daa-48e5-bf45-6a6ddd399cc9",
   "metadata": {},
   "source": [
    "## Example of copy-by-value\n",
    "\n",
    "When the object being passed into the function is a primitive type, the value is copied. "
   ]
  },
  {
   "cell_type": "code",
   "execution_count": 18,
   "id": "431a1c3b-3efb-44d9-8f8a-11452ea1a661",
   "metadata": {},
   "outputs": [
    {
     "name": "stdout",
     "output_type": "stream",
     "text": [
      "before:  \u001b[33m21\u001b[39m \u001b[33m17\u001b[39m\n",
      "after:  \u001b[33m21\u001b[39m \u001b[33m17\u001b[39m\n"
     ]
    }
   ],
   "source": [
    "(()=>{\n",
    "function main () {\n",
    "    let a = 21\n",
    "    let b = 17\n",
    "    console.log('before: ', a, b)\n",
    "    swap(a,b)\n",
    "    console.log('after: ', a, b)\n",
    "}\n",
    "\n",
    "function swap(a, b) {\n",
    "    let t = a\n",
    "    a = b\n",
    "    b = t\n",
    "}\n",
    "\n",
    "main()\n",
    "})();"
   ]
  },
  {
   "cell_type": "markdown",
   "id": "9f183f8c-0453-4a5a-87eb-25940fb6737f",
   "metadata": {},
   "source": [
    "In the above example, `swap()` function is swapping the copy of `a` and `b`; in the `main` function, `a` and `b` are untouched. "
   ]
  },
  {
   "cell_type": "markdown",
   "id": "3b228f06-38a7-4578-937a-ecd22b6336ee",
   "metadata": {},
   "source": [
    "## Example of pass-by-reference\n",
    "\n",
    "When the object being passed into the function is an object type, the reference is passed. "
   ]
  },
  {
   "cell_type": "code",
   "execution_count": 20,
   "id": "93818ad9-d46e-461e-b550-5b226366c522",
   "metadata": {},
   "outputs": [
    {
     "name": "stdout",
     "output_type": "stream",
     "text": [
      "before:  { num: \u001b[33m21\u001b[39m } { num: \u001b[33m17\u001b[39m }\n",
      "after:  { num: \u001b[33m17\u001b[39m } { num: \u001b[33m21\u001b[39m }\n"
     ]
    }
   ],
   "source": [
    "(()=>{\n",
    "function main () {\n",
    "    let a = {num: 21}\n",
    "    let b = {num: 17}\n",
    "    console.log('before: ', a, b)\n",
    "    swapPropertyNum(a,b)\n",
    "    console.log('after: ', a, b)\n",
    "}\n",
    "\n",
    "function swapPropertyNum(a, b) {\n",
    "    let t = a.num\n",
    "    a.num = b.num\n",
    "    b.num = t\n",
    "}\n",
    "\n",
    "main()\n",
    "})();"
   ]
  },
  {
   "cell_type": "markdown",
   "id": "0e2c3d5f-aa73-42b9-84b1-0fcdcf27dcea",
   "metadata": {},
   "source": [
    "In the above example, object `a` and `b` is the same object inside and outside `swapPropertyNum()`"
   ]
  },
  {
   "cell_type": "code",
   "execution_count": null,
   "id": "11e24ffc-684d-4655-8b04-b8e11f86beae",
   "metadata": {},
   "outputs": [],
   "source": []
  }
 ],
 "metadata": {
  "kernelspec": {
   "display_name": "JavaScript",
   "language": "javascript",
   "name": "jslab"
  },
  "language_info": {
   "file_extension": ".js",
   "mimetype": "text/javascript",
   "name": "javascript",
   "version": ""
  }
 },
 "nbformat": 4,
 "nbformat_minor": 5
}
