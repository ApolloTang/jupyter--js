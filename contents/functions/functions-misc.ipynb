{
 "cells": [
  {
   "attachments": {},
   "cell_type": "markdown",
   "metadata": {},
   "source": [
    "# Function Misc\n",
    "\n",
    "## How to get name of a function declaration\n",
    "\n",
    "the `Function.prototype.name` only work for function declaration (does not work for arraw function or function expression)."
   ]
  },
  {
   "cell_type": "code",
   "execution_count": 4,
   "metadata": {},
   "outputs": [
    {
     "name": "stdout",
     "output_type": "stream",
     "text": [
      "name of function is:  myFunction\n"
     ]
    }
   ],
   "source": [
    ";(() => {\n",
    "    function myFunction() { /* not impliment */ }\n",
    "    console.log('name of function is: ', myFunction.name)\n",
    "})()\n"
   ]
  },
  {
   "attachments": {},
   "cell_type": "markdown",
   "metadata": {},
   "source": [
    "## Conditionally declare a functions\n",
    "\n",
    "This is possible even in 'use strict' mode; but only with function expression:\n",
    "Ref: [6 Ways to Declare JavaScript Functions](https://dmitripavlutin.com/6-ways-to-declare-javascript-functions/)"
   ]
  },
  {
   "cell_type": "code",
   "execution_count": 6,
   "metadata": {},
   "outputs": [
    {
     "name": "stdout",
     "output_type": "stream",
     "text": [
      "true\n",
      "false\n"
     ]
    }
   ],
   "source": [
    ";(()=>{\n",
    "    'use strict'  // <-- this has no effect in ipynb\n",
    "    let returnTrueWhenExec\n",
    "    if (false) {\n",
    "        returnTrueWhenExec = function (){\n",
    "            return 'true'\n",
    "        }\n",
    "    } else {\n",
    "        returnTrueWhenExec = function (){\n",
    "            return 'true'\n",
    "        }\n",
    "    }\n",
    "    console.log(returnTrueWhenExec()) // ture\n",
    "\n",
    "\n",
    "    let returnFalseWhenExec\n",
    "    if (false) {\n",
    "        returnFalseWhenExec = function (){\n",
    "            return 'false'\n",
    "        }\n",
    "    } else {\n",
    "        returnFalseWhenExec = function (){\n",
    "            return 'false'\n",
    "        }\n",
    "    }\n",
    "    console.log(returnFalseWhenExec())  // false\n",
    "})()"
   ]
  }
 ],
 "metadata": {
  "kernelspec": {
   "display_name": "JavaScript",
   "language": "javascript",
   "name": "jslab"
  },
  "language_info": {
   "file_extension": ".js",
   "mimetype": "text/javascript",
   "name": "javascript",
   "version": ""
  },
  "orig_nbformat": 4,
  "vscode": {
   "interpreter": {
    "hash": "05bc5ab24cad172636a75dd0341f0dfa6e4e103701c6f09b6a3f146b78c7837f"
   }
  }
 },
 "nbformat": 4,
 "nbformat_minor": 2
}
