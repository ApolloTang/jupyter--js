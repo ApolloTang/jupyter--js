{
 "cells": [
  {
   "cell_type": "markdown",
   "metadata": {},
   "source": [
    "# Logical OR and Nullish Coalescing"
   ]
  },
  {
   "cell_type": "markdown",
   "metadata": {},
   "source": [
    "Logical OR execute RHS if LHS evalutes to falsy:"
   ]
  },
  {
   "cell_type": "code",
   "execution_count": 1,
   "metadata": {},
   "outputs": [
    {
     "name": "stdout",
     "output_type": "stream",
     "text": [
      "RHS\n",
      "RHS\n",
      "RHS\n",
      "RHS\n",
      "RHS\n",
      "RHS\n",
      "RHS\n"
     ]
    }
   ],
   "source": [
    "const falsy = [undefined, null, 0, -0, NaN, \"\", false];\n",
    "\n",
    "falsy.forEach((f) => {\n",
    "  let result = f || (() => \"RHS\")();\n",
    "  console.log(result);\n",
    "});"
   ]
  },
  {
   "cell_type": "markdown",
   "metadata": {},
   "source": [
    "Nullish Coalescing execute RHS if LHS evalutes to `null` or `undefined`"
   ]
  },
  {
   "cell_type": "code",
   "execution_count": 2,
   "metadata": {},
   "outputs": [
    {
     "name": "stdout",
     "output_type": "stream",
     "text": [
      "RHS\n",
      "RHS\n",
      "0\n",
      "-0\n",
      "NaN\n",
      "\n",
      "false\n"
     ]
    }
   ],
   "source": [
    "const falsy = [undefined, null, 0, -0, NaN, \"\", false];\n",
    "\n",
    "falsy.forEach((f) => {\n",
    "  let result = f ?? (() => \"RHS\")();\n",
    "  console.log(result);\n",
    "});"
   ]
  }
 ],
 "metadata": {
  "kernelspec": {
   "display_name": "JavaScript",
   "language": "javascript",
   "name": "jslab"
  },
  "language_info": {
   "file_extension": ".js",
   "mimetype": "text/javascript",
   "name": "javascript",
   "version": ""
  },
  "orig_nbformat": 4
 },
 "nbformat": 4,
 "nbformat_minor": 2
}
