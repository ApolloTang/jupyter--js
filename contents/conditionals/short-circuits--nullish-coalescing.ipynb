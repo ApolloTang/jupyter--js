{
 "cells": [
  {
   "cell_type": "markdown",
   "metadata": {},
   "source": [
    "# Short-circuits and Nullish Coalescing"
   ]
  },
  {
   "cell_type": "code",
   "execution_count": 21,
   "metadata": {},
   "outputs": [
    {
     "name": "stdout",
     "output_type": "stream",
     "text": [
      "105\n",
      "┌─────────┬────────┐\n",
      "│ (index) │ Values │\n",
      "├─────────┼────────┤\n",
      "│   foo   │ 'bar'  │\n",
      "└─────────┴────────┘\n",
      "\n"
     ]
    }
   ],
   "source": [
    "import { Console } from 'node:console'\n",
    "import { Transform } from 'node:stream'\n",
    "\n",
    "const ts = new Transform({ transform(chunk, enc, cb) { cb(null, chunk) } })\n",
    "const logger = new Console({ stdout: ts })\n",
    "\n",
    "function getTable (data) {\n",
    "  logger.table(data)\n",
    "  return (ts.read() || '').toString()\n",
    "}\n",
    "\n",
    "const str = getTable({foo: 'bar'})\n",
    "console.log(str.length) // 105\n",
    "console.log(str)"
   ]
  },
  {
   "cell_type": "markdown",
   "metadata": {},
   "source": [
    "Short-circuits execute RHS if LHS evalutes to falsy."
   ]
  },
  {
   "cell_type": "code",
   "execution_count": 20,
   "metadata": {},
   "outputs": [
    {
     "name": "stdout",
     "output_type": "stream",
     "text": [
      "RHS\n",
      "RHS\n",
      "RHS\n",
      "RHS\n",
      "RHS\n",
      "RHS\n",
      "RHS\n",
      "-----------\n",
      "RHS\n",
      "RHS\n",
      "0\n",
      "-0\n",
      "NaN\n",
      "\n",
      "false\n"
     ]
    }
   ],
   "source": [
    "{\n",
    "    const falsy = [undefined, null, 0, -0, NaN, \"\", false];\n",
    "\n",
    "    falsy.forEach((f) => {\n",
    "      let result = f || (() => \"RHS\")();\n",
    "      console.table(result);\n",
    "    });\n",
    "    \n",
    "    console.log('-----------')\n",
    "    \n",
    "    falsy.forEach((f) => {\n",
    "      let result = f ?? (() => \"RHS\")();\n",
    "      console.log(result);\n",
    "    });\n",
    "  }"
   ]
  },
  {
   "cell_type": "markdown",
   "metadata": {},
   "source": [
    "Replacing short-circuits with nullish coalescing operator, you will get surpricing result!"
   ]
  },
  {
   "cell_type": "code",
   "execution_count": 12,
   "metadata": {},
   "outputs": [
    {
     "name": "stdout",
     "output_type": "stream",
     "text": [
      "false\n",
      "true\n"
     ]
    }
   ],
   "source": [
    "{\n",
    "    let result\n",
    "\n",
    "    result = false && (()=>'rhs')()\n",
    "    console.log(result) // 'rhs'\n",
    "\n",
    "    result = true ?? (()=>'rhs')()\n",
    "    console.log(result) // false\n",
    "}"
   ]
  },
  {
   "cell_type": "code",
   "execution_count": 13,
   "metadata": {},
   "outputs": [
    {
     "name": "stdout",
     "output_type": "stream",
     "text": [
      "false\n",
      "\n",
      "0\n"
     ]
    }
   ],
   "source": [
    "{\n",
    "    let result\n",
    "    result = (()=>false)() && (()=>'rhs')()\n",
    "    console.log(result) // false \n",
    "   \n",
    "    result = (()=>'')() && (()=>'rhs')()\n",
    "    console.log(result) // false \n",
    "\n",
    "    result = (()=>0)() && (()=>'rhs')()\n",
    "    console.log(result) //  rhs \n",
    "}"
   ]
  },
  {
   "cell_type": "code",
   "execution_count": 14,
   "metadata": {},
   "outputs": [
    {
     "name": "stdout",
     "output_type": "stream",
     "text": [
      "false\n",
      "\n",
      "rhs\n"
     ]
    }
   ],
   "source": [
    "{\n",
    "    let result\n",
    "    result = (()=>false)() && (()=>'rhs')()\n",
    "    console.log(result) // false \n",
    "   \n",
    "    result = (()=>'')() && (()=>'rhs')()\n",
    "    console.log(result) // false \n",
    "\n",
    "    result = (()=>true)() && (()=>'rhs')()\n",
    "    console.log(result) //  rhs \n",
    "}"
   ]
  },
  {
   "cell_type": "markdown",
   "metadata": {},
   "source": [
    "Nullish coalescing operator "
   ]
  },
  {
   "cell_type": "code",
   "execution_count": 15,
   "metadata": {},
   "outputs": [
    {
     "name": "stdout",
     "output_type": "stream",
     "text": [
      "1 null\n",
      "2 undefined\n",
      "2 false\n",
      "6 null\n",
      "6 undefined\n",
      "6 false\n"
     ]
    }
   ],
   "source": [
    "{\n",
    "    let result\n",
    "    result = (()=>null)() && (()=>'rhs')()\n",
    "    console.log(1, result) // 'rhs'\n",
    "    \n",
    "    result = (()=>undefined)() && (()=>'rhs')()\n",
    "    console.log(2, result) // true\n",
    "\n",
    "    result = (()=>false)() && (()=>'rhs')()\n",
    "    console.log(2, result) // true\n",
    "\n",
    "    result = null && (()=>'rhs')()\n",
    "    console.log(6, result) // true\n",
    "\n",
    "    result = undefined && (()=>'rhs')()\n",
    "    console.log(6, result) // true\n",
    "\n",
    "    result = false && (()=>'rhs')()\n",
    "    console.log(6, result) // true\n",
    "\n",
    "}"
   ]
  },
  {
   "cell_type": "code",
   "execution_count": 16,
   "metadata": {},
   "outputs": [
    {
     "name": "stdout",
     "output_type": "stream",
     "text": [
      "6 rhs\n",
      "3 rhs\n",
      "4 rhs\n",
      "4 rhs\n",
      "5 rhs\n",
      "6 rhs\n"
     ]
    }
   ],
   "source": [
    "{\n",
    "    let result\n",
    "    result = true && (()=>'rhs')()\n",
    "console.log(6, result) // true\n",
    "\n",
    "result = (()=>{return 'ee'})() && (()=>'rhs')()\n",
    "console.log(3, result) // true\n",
    "\n",
    "result = (()=>123)() && (()=>'rhs')()\n",
    "console.log(4, result) // true\n",
    "\n",
    "result = 123 && (()=>'rhs')()\n",
    "console.log(4, result) // true\n",
    "\n",
    "result = [] && (()=>'rhs')()\n",
    "console.log(5, result) // 'rhs'\n",
    "\n",
    "result = '0' && (()=>'rhs')()\n",
    "console.log(6, result) // true\n",
    "\n",
    "\n",
    "}"
   ]
  },
  {
   "cell_type": "code",
   "execution_count": 17,
   "metadata": {},
   "outputs": [
    {
     "name": "stdout",
     "output_type": "stream",
     "text": [
      "6 \n",
      "6 0\n"
     ]
    }
   ],
   "source": [
    "{\n",
    "    let result\n",
    "    result = '' && (()=>'rhs')()\n",
    "console.log(6, result) // true\n",
    "\n",
    "result = 0 && (()=>'rhs')()\n",
    "console.log(6, result) // true\n",
    "\n",
    "}"
   ]
  }
 ],
 "metadata": {
  "kernelspec": {
   "display_name": "JavaScript",
   "language": "javascript",
   "name": "jslab"
  },
  "language_info": {
   "file_extension": ".js",
   "mimetype": "text/javascript",
   "name": "javascript",
   "version": ""
  },
  "orig_nbformat": 4
 },
 "nbformat": 4,
 "nbformat_minor": 2
}
