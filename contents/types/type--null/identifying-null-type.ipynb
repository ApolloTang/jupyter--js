{
 "cells": [
  {
   "cell_type": "markdown",
   "metadata": {},
   "source": [
    "# Identifying null type\n",
    "\n",
    "The `null` type is a premitive type; Identifying premitive type with `typeof` in javascript is rather logically: "
   ]
  },
  {
   "cell_type": "code",
   "execution_count": 4,
   "metadata": {},
   "outputs": [
    {
     "name": "stdout",
     "output_type": "stream",
     "text": [
      "SomeString :  string\n",
      "10 :  number\n",
      "5.1 :  number\n",
      "true :  boolean\n",
      "undefined :  undefined\n"
     ]
    }
   ],
   "source": [
    ";[\"SomeString\", 10, 5.1, true, undefined].forEach((v)=>{\n",
    "    console.log(v, ': ', typeof v)\n",
    "})"
   ]
  },
  {
   "cell_type": "markdown",
   "metadata": {},
   "source": [
    "However, this is not the case for `null`:"
   ]
  },
  {
   "cell_type": "code",
   "execution_count": 5,
   "metadata": {},
   "outputs": [
    {
     "name": "stdout",
     "output_type": "stream",
     "text": [
      "object\n"
     ]
    }
   ],
   "source": [
    "console.log(typeof null);"
   ]
  },
  {
   "cell_type": "markdown",
   "metadata": {},
   "source": [
    "This is an design error.\n",
    "\n",
    "As a mnemonic you could argue that `null` is a empty object pointer, making `object` a logical return value.\n",
    "\n",
    "The best way to determine if a value is `null` is comparing to it self:"
   ]
  },
  {
   "cell_type": "code",
   "execution_count": 6,
   "metadata": {},
   "outputs": [
    {
     "name": "stdout",
     "output_type": "stream",
     "text": [
      "null isNull:  true\n",
      "SomeString isNull:  false\n",
      "10 isNull:  false\n",
      "5.1 isNull:  false\n",
      "true isNull:  false\n",
      "undefined isNull:  false\n"
     ]
    }
   ],
   "source": [
    "const isNull = v => console.log(v, 'isNull: ', v === null)\n",
    "\n",
    ";[null, \"SomeString\", 10, 5.1, true, undefined].forEach((v)=>{\n",
    "    isNull(v)\n",
    "})"
   ]
  }
 ],
 "metadata": {
  "kernelspec": {
   "display_name": "JavaScript",
   "language": "javascript",
   "name": "jslab"
  },
  "language_info": {
   "file_extension": ".js",
   "mimetype": "text/javascript",
   "name": "javascript",
   "version": ""
  },
  "orig_nbformat": 4
 },
 "nbformat": 4,
 "nbformat_minor": 2
}
