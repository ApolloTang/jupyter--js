{
 "cells": [
  {
   "attachments": {},
   "cell_type": "markdown",
   "metadata": {},
   "source": [
    "# Identifying Premitive Types"
   ]
  },
  {
   "attachments": {},
   "cell_type": "markdown",
   "metadata": {},
   "source": [
    "Identifying Premitive Types is faily straight forward with the `typeof` operator:"
   ]
  },
  {
   "cell_type": "code",
   "execution_count": 1,
   "metadata": {},
   "outputs": [
    {
     "name": "stdout",
     "output_type": "stream",
     "text": [
      "string\n",
      "number\n",
      "number\n",
      "boolean\n",
      "undefined\n"
     ]
    }
   ],
   "source": [
    "console.log(typeof \"Nicholas\");  // \"string\" \n",
    "console.log(typeof 10);          // \"number\" \n",
    "console.log(typeof 5.1);         // \"number\" \n",
    "console.log(typeof true);        // \"boolean\" \n",
    "console.log(typeof undefined);   // \"undefined\"\n"
   ]
  },
  {
   "attachments": {},
   "cell_type": "markdown",
   "metadata": {},
   "source": [
    "However, identifying `null` type is a problem: "
   ]
  },
  {
   "cell_type": "code",
   "execution_count": 2,
   "metadata": {},
   "outputs": [
    {
     "name": "stdout",
     "output_type": "stream",
     "text": [
      "object\n"
     ]
    }
   ],
   "source": [
    "console.log(typeof null); // \"object\""
   ]
  },
  {
   "attachments": {},
   "cell_type": "markdown",
   "metadata": {},
   "source": [
    "The above has been acknowledged as an design error by the TC39 committee. Although you could reason that `null` is an empty object pointer, making \"object\" a logical return value.\n",
    "\n",
    "The best way to find out if a value is `null` is to compare it against itself directly:"
   ]
  },
  {
   "cell_type": "code",
   "execution_count": null,
   "metadata": {},
   "outputs": [],
   "source": [
    "console.log(value === null); // true or false"
   ]
  }
 ],
 "metadata": {
  "kernelspec": {
   "display_name": "JavaScript",
   "language": "javascript",
   "name": "jslab"
  },
  "language_info": {
   "file_extension": ".js",
   "mimetype": "text/javascript",
   "name": "javascript",
   "version": ""
  },
  "orig_nbformat": 4
 },
 "nbformat": 4,
 "nbformat_minor": 2
}
