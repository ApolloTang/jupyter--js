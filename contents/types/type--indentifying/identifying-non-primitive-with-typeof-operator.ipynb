{
 "cells": [
  {
   "cell_type": "markdown",
   "metadata": {},
   "source": [
    "# Problem with typeof operator on non primitive type\n",
    "\n",
    "The typeof operator indiscriminately returns 'object' for various non-premitive types:"
   ]
  },
  {
   "cell_type": "code",
   "execution_count": 1,
   "metadata": {},
   "outputs": [
    {
     "name": "stdout",
     "output_type": "stream",
     "text": [
      "{ a: 'a' } :  object\n",
      "[ 1, 2, 3 ] :  object\n",
      "2023-08-04T19:36:13.569Z :  object\n",
      "/regex/ :  object\n",
      "[Boolean: true] :  object\n",
      "[Number: 1] :  object\n",
      "[String: 'abc'] :  object\n"
     ]
    }
   ],
   "source": [
    ";[\n",
    "    {a: 'a'},\n",
    "    [1,2,3],\n",
    "    new Date(),\n",
    "    /regex/,\n",
    "    new Boolean(true),\n",
    "    new Number(1),\n",
    "    new String('abc'),\n",
    "].forEach((v)=>{\n",
    "    console.log(v, ': ', typeof v)\n",
    "})"
   ]
  },
  {
   "cell_type": "markdown",
   "metadata": {},
   "source": [
    "https://reactgo.com/javascript-check-if-variable-is-object/\n",
    "\n",
    "https://developer.mozilla.org/en-US/docs/Web/JavaScript/Reference/Operators/typeof#typeof_null"
   ]
  }
 ],
 "metadata": {
  "kernelspec": {
   "display_name": "JavaScript",
   "language": "javascript",
   "name": "jslab"
  },
  "language_info": {
   "file_extension": ".js",
   "mimetype": "text/javascript",
   "name": "javascript",
   "version": ""
  },
  "orig_nbformat": 4,
  "vscode": {
   "interpreter": {
    "hash": "790045c620c71c82e90ca3055e3e1d4d1df10879aa6d1ee4e80b530f3acf8975"
   }
  }
 },
 "nbformat": 4,
 "nbformat_minor": 2
}
